{
 "cells": [
  {
   "cell_type": "markdown",
   "metadata": {},
   "source": [
    "https://huggingface.co/seara/rubert-tiny2-russian-sentiment  \n",
    "https://huggingface.co/seara/rubert-base-cased-ru-go-emotions"
   ]
  },
  {
   "cell_type": "code",
   "execution_count": 24,
   "metadata": {},
   "outputs": [
    {
     "name": "stdout",
     "output_type": "stream",
     "text": [
      "Defaulting to user installation because normal site-packages is not writeable\n",
      "Collecting rich\n",
      "  Downloading rich-13.8.1-py3-none-any.whl (241 kB)\n",
      "Collecting markdown-it-py>=2.2.0\n",
      "  Downloading markdown_it_py-3.0.0-py3-none-any.whl (87 kB)\n",
      "Requirement already satisfied: pygments<3.0.0,>=2.13.0 in c:\\users\\pr-2\\appdata\\roaming\\python\\python39\\site-packages (from rich) (2.18.0)\n",
      "Collecting mdurl~=0.1\n",
      "  Downloading mdurl-0.1.2-py3-none-any.whl (10.0 kB)\n",
      "Installing collected packages: mdurl, markdown-it-py, rich\n",
      "Successfully installed markdown-it-py-3.0.0 mdurl-0.1.2 rich-13.8.1\n",
      "Note: you may need to restart the kernel to use updated packages.\n"
     ]
    },
    {
     "name": "stderr",
     "output_type": "stream",
     "text": [
      "WARNING: You are using pip version 21.1.3; however, version 24.2 is available.\n",
      "You should consider upgrading via the 'c:\\Program Files\\Python39\\python.exe -m pip install --upgrade pip' command.\n"
     ]
    }
   ],
   "source": [
    "# %pip install transformers\n",
    "# %pip install rich"
   ]
  },
  {
   "cell_type": "code",
   "execution_count": 1,
   "metadata": {},
   "outputs": [
    {
     "name": "stderr",
     "output_type": "stream",
     "text": [
      "C:\\Users\\PR-2\\AppData\\Roaming\\Python\\Python39\\site-packages\\tqdm\\auto.py:21: TqdmWarning: IProgress not found. Please update jupyter and ipywidgets. See https://ipywidgets.readthedocs.io/en/stable/user_install.html\n",
      "  from .autonotebook import tqdm as notebook_tqdm\n"
     ]
    }
   ],
   "source": [
    "from transformers import pipeline\n",
    "from rich.console import Console\n",
    "from rich import inspect\n",
    "# model = pipeline(model=\"seara/rubert-tiny2-russian-sentiment\")\n",
    "model = pipeline(model=\"seara/rubert-base-cased-ru-go-emotions\")\n",
    "console = Console()"
   ]
  },
  {
   "cell_type": "code",
   "execution_count": 2,
   "metadata": {},
   "outputs": [
    {
     "data": {
      "text/html": [
       "<pre style=\"white-space:pre;overflow-x:auto;line-height:normal;font-family:Menlo,'DejaVu Sans Mono',consolas,'Courier New',monospace\"><span style=\"font-weight: bold\">[{</span><span style=\"color: #008000; text-decoration-color: #008000\">'label'</span>: <span style=\"color: #008000; text-decoration-color: #008000\">'excitement'</span>, <span style=\"color: #008000; text-decoration-color: #008000\">'score'</span>: <span style=\"color: #008080; text-decoration-color: #008080; font-weight: bold\">0.2225569188594818</span><span style=\"font-weight: bold\">}]</span>\n",
       "</pre>\n"
      ],
      "text/plain": [
       "\u001b[1m[\u001b[0m\u001b[1m{\u001b[0m\u001b[32m'label'\u001b[0m: \u001b[32m'excitement'\u001b[0m, \u001b[32m'score'\u001b[0m: \u001b[1;36m0.2225569188594818\u001b[0m\u001b[1m}\u001b[0m\u001b[1m]\u001b[0m\n"
      ]
     },
     "metadata": {},
     "output_type": "display_data"
    }
   ],
   "source": [
    "result = model(\"Я опечален, потому что хожу в школу к 8 утра.\")\n",
    "console.print (result)\n",
    "# inspect (result, methods=True)"
   ]
  },
  {
   "cell_type": "code",
   "execution_count": 3,
   "metadata": {},
   "outputs": [],
   "source": [
    "joy = ['admiration', 'amusement', 'joy', 'optimism', 'relief']\n",
    "neutral = ['neutral', 'embarrassment']\n",
    "sadness = ['sadness', 'remorse', 'grief']\n",
    "discontent = ['disappointment', 'disapproval', 'nervousness', 'fear']\n",
    "suprise = ['realization', 'suprise']\n",
    "concern = ['caring', 'confusion', 'curiosity']\n",
    "anger = ['anger', 'annoyance', 'disgust']\n",
    "trust = ['approval', 'gratitude']"
   ]
  },
  {
   "cell_type": "code",
   "execution_count": 4,
   "metadata": {},
   "outputs": [
    {
     "name": "stdout",
     "output_type": "stream",
     "text": [
      "excitement 0.2225569188594818\n"
     ]
    }
   ],
   "source": [
    "if result[0]['label'] in joy:\n",
    "    print('joy', result[0]['score'])\n",
    "elif result[0]['label'] in neutral:\n",
    "    print('neutral', result[0]['score']) \n",
    "elif result[0]['label'] in sadness:\n",
    "    print('sadness', result[0]['score'])\n",
    "elif result[0]['label'] in discontent:\n",
    "    print('discontent', result[0]['score']) \n",
    "elif result[0]['label'] in suprise:\n",
    "    print('surprise', result[0]['score'])\n",
    "elif result[0]['label'] in concern:\n",
    "    print('concern', result[0]['score'])\n",
    "elif result[0]['label'] in anger:\n",
    "    print('anger', result[0]['score'])\n",
    "elif result[0]['label'] in trust:\n",
    "    print('trust', result[0]['score']) \n",
    "elif result[0]['label'] == 'desire':\n",
    "    print('desire', result[0]['score'])  \n",
    "elif result[0]['label'] == 'love':\n",
    "    print('love', result[0]['score'])\n",
    "elif result[0]['label'] == 'excitement':\n",
    "    print('excitement', result[0]['score'])\n",
    "else:\n",
    "    print('pride', result[0]['score'])"
   ]
  }
 ],
 "metadata": {
  "kernelspec": {
   "display_name": "Python 3",
   "language": "python",
   "name": "python3"
  },
  "language_info": {
   "codemirror_mode": {
    "name": "ipython",
    "version": 3
   },
   "file_extension": ".py",
   "mimetype": "text/x-python",
   "name": "python",
   "nbconvert_exporter": "python",
   "pygments_lexer": "ipython3",
   "version": "3.9.6"
  }
 },
 "nbformat": 4,
 "nbformat_minor": 2
}
